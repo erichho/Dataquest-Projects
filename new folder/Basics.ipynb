{
 "cells": [
  {
   "cell_type": "code",
   "execution_count": 21,
   "metadata": {
    "collapsed": false
   },
   "outputs": [
    {
     "ename": "AttributeError",
     "evalue": "'module' object has no attribute 'open'",
     "output_type": "error",
     "traceback": [
      "\u001b[1;31m\u001b[0m",
      "\u001b[1;31mAttributeError\u001b[0mTraceback (most recent call last)",
      "\u001b[1;32m<ipython-input-21-3b8855fb5a60>\u001b[0m in \u001b[0;36m<module>\u001b[1;34m()\u001b[0m\n\u001b[0;32m      1\u001b[0m \u001b[1;32mimport\u001b[0m \u001b[0mcsv\u001b[0m\u001b[1;33m\u001b[0m\u001b[0m\n\u001b[1;32m----> 2\u001b[1;33m \u001b[0mf\u001b[0m\u001b[1;33m=\u001b[0m \u001b[0mcsv\u001b[0m\u001b[1;33m.\u001b[0m\u001b[0mopen\u001b[0m\u001b[1;33m(\u001b[0m\u001b[1;34m\"guns.csv\"\u001b[0m\u001b[1;33m,\u001b[0m\u001b[1;34m'r'\u001b[0m\u001b[1;33m)\u001b[0m\u001b[1;33m\u001b[0m\u001b[0m\n\u001b[0m\u001b[0;32m      3\u001b[0m \u001b[0mdata\u001b[0m \u001b[1;33m=\u001b[0m \u001b[0mlist\u001b[0m\u001b[1;33m(\u001b[0m\u001b[0mcsv\u001b[0m\u001b[1;33m.\u001b[0m\u001b[0mreader\u001b[0m\u001b[1;33m(\u001b[0m\u001b[0mf\u001b[0m\u001b[1;33m)\u001b[0m\u001b[1;33m)\u001b[0m\u001b[1;33m\u001b[0m\u001b[0m\n\u001b[0;32m      4\u001b[0m \u001b[1;32mfor\u001b[0m \u001b[0mi\u001b[0m \u001b[1;32min\u001b[0m \u001b[0mrange\u001b[0m\u001b[1;33m(\u001b[0m\u001b[1;36m5\u001b[0m\u001b[1;33m)\u001b[0m\u001b[1;33m:\u001b[0m\u001b[1;33m\u001b[0m\u001b[0m\n\u001b[0;32m      5\u001b[0m     \u001b[0mprint\u001b[0m\u001b[1;33m(\u001b[0m\u001b[0mdata\u001b[0m\u001b[1;33m[\u001b[0m\u001b[0mi\u001b[0m\u001b[1;33m]\u001b[0m\u001b[1;33m)\u001b[0m\u001b[1;33m\u001b[0m\u001b[0m\n",
      "\u001b[1;31mAttributeError\u001b[0m: 'module' object has no attribute 'open'"
     ]
    }
   ],
   "source": [
    "import csv\n",
    "f= csv.open(\"guns.csv\",'r')\n",
    "data = list(csv.reader(f))\n",
    "for i in range(5):\n",
    "    print(data[i])"
   ]
  },
  {
   "cell_type": "code",
   "execution_count": 22,
   "metadata": {
    "collapsed": false
   },
   "outputs": [
    {
     "name": "stdout",
     "output_type": "stream",
     "text": [
      "['', 'year', 'month', 'intent', 'police', 'sex', 'age', 'race', 'hispanic', 'place', 'education']\n",
      "['1', '2012', '01', 'Suicide', '0', 'M', '34', 'Asian/Pacific Islander', '100', 'Home', '4']\n",
      "['2', '2012', '01', 'Suicide', '0', 'F', '21', 'White', '100', 'Street', '3']\n",
      "['3', '2012', '01', 'Suicide', '0', 'M', '60', 'White', '100', 'Other specified', '4']\n",
      "['4', '2012', '02', 'Suicide', '0', 'M', '64', 'White', '100', 'Home', '4']\n"
     ]
    }
   ],
   "source": [
    "import csv\n",
    "f= open(\"guns.csv\",'r')\n",
    "data = list(csv.reader(f))\n",
    "for i in range(5):\n",
    "    print(data[i])"
   ]
  },
  {
   "cell_type": "code",
   "execution_count": 23,
   "metadata": {
    "collapsed": false
   },
   "outputs": [
    {
     "name": "stdout",
     "output_type": "stream",
     "text": [
      "['', 'year', 'month', 'intent', 'police', 'sex', 'age', 'race', 'hispanic', 'place', 'education']\n",
      "['1', '2012', '01', 'Suicide', '0', 'M', '34', 'Asian/Pacific Islander', '100', 'Home', '4']\n",
      "['2', '2012', '01', 'Suicide', '0', 'F', '21', 'White', '100', 'Street', '3']\n",
      "['3', '2012', '01', 'Suicide', '0', 'M', '60', 'White', '100', 'Other specified', '4']\n",
      "['4', '2012', '02', 'Suicide', '0', 'M', '64', 'White', '100', 'Home', '4']\n",
      "['5', '2012', '02', 'Suicide', '0', 'M', '31', 'White', '100', 'Other specified', '2']\n"
     ]
    }
   ],
   "source": [
    "headers = data[0]\n",
    "data = data[1:]\n",
    "print(headers)\n",
    "for i in range(5):\n",
    "    print(data[i])"
   ]
  },
  {
   "cell_type": "code",
   "execution_count": 24,
   "metadata": {
    "collapsed": false
   },
   "outputs": [
    {
     "name": "stdout",
     "output_type": "stream",
     "text": [
      "{'2012': 33563, '2013': 33636, '2014': 33599}\n"
     ]
    }
   ],
   "source": [
    "year_counts={}\n",
    "for r in data:\n",
    "    if(r[1] not in year_counts):\n",
    "        year_counts[r[1]]=1\n",
    "    else:\n",
    "        year_counts[r[1]]=year_counts[r[1]]+1\n",
    "print(year_counts)"
   ]
  },
  {
   "cell_type": "code",
   "execution_count": null,
   "metadata": {
    "collapsed": true
   },
   "outputs": [],
   "source": []
  },
  {
   "cell_type": "code",
   "execution_count": 25,
   "metadata": {
    "collapsed": false
   },
   "outputs": [
    {
     "name": "stdout",
     "output_type": "stream",
     "text": [
      "2012-01-01 00:00:00\n",
      "2012-01-01 00:00:00\n",
      "2012-01-01 00:00:00\n",
      "2012-02-01 00:00:00\n",
      "2012-02-01 00:00:00\n",
      "<class 'datetime.datetime'>\n"
     ]
    }
   ],
   "source": [
    "import datetime\n",
    "dates = []\n",
    "dates = [datetime.datetime(year=int(r[1]),month=int(r[2]),day=1)for r in data]\n",
    "for d in range(5):\n",
    "    print(dates[d])\n",
    "print(type(dates[0]))"
   ]
  },
  {
   "cell_type": "code",
   "execution_count": 26,
   "metadata": {
    "collapsed": false
   },
   "outputs": [
    {
     "name": "stdout",
     "output_type": "stream",
     "text": [
      "{'2012-03-01 00:00:00': 2743, '2014-08-01 00:00:00': 2970, '2012-11-01 00:00:00': 2729, '2012-06-01 00:00:00': 2826, '2012-07-01 00:00:00': 3026, '2013-02-01 00:00:00': 2375, '2012-10-01 00:00:00': 2733, '2014-02-01 00:00:00': 2361, '2013-10-01 00:00:00': 2808, '2013-06-01 00:00:00': 2920, '2014-09-01 00:00:00': 2914, '2013-04-01 00:00:00': 2798, '2014-05-01 00:00:00': 2864, '2013-01-01 00:00:00': 2864, '2012-02-01 00:00:00': 2357, '2014-11-01 00:00:00': 2756, '2014-07-01 00:00:00': 2884, '2012-09-01 00:00:00': 2852, '2013-07-01 00:00:00': 3079, '2013-09-01 00:00:00': 2742, '2014-12-01 00:00:00': 2857, '2012-01-01 00:00:00': 2758, '2013-08-01 00:00:00': 2859, '2014-01-01 00:00:00': 2651, '2012-04-01 00:00:00': 2795, '2013-05-01 00:00:00': 2806, '2014-06-01 00:00:00': 2931, '2013-03-01 00:00:00': 2862, '2013-11-01 00:00:00': 2758, '2012-08-01 00:00:00': 2954, '2013-12-01 00:00:00': 2765, '2014-03-01 00:00:00': 2684, '2014-04-01 00:00:00': 2862, '2012-05-01 00:00:00': 2999, '2012-12-01 00:00:00': 2791, '2014-10-01 00:00:00': 2865}\n"
     ]
    }
   ],
   "source": [
    "#date_counts = {1 if( str(d) not in date_counts) else (date_counts[str(d)]+1) for d in dates}\n",
    "date_counts = {}\n",
    "for d in dates:\n",
    "    if str(d) not in date_counts:\n",
    "        date_counts[str(d)]=1\n",
    "    else:\n",
    "        date_counts[str(d)]+=1\n",
    "print(date_counts)\n"
   ]
  },
  {
   "cell_type": "code",
   "execution_count": 27,
   "metadata": {
    "collapsed": false
   },
   "outputs": [
    {
     "name": "stdout",
     "output_type": "stream",
     "text": [
      "{'M': 86349, 'F': 14449}\n"
     ]
    }
   ],
   "source": [
    "sex_counts  = {}\n",
    "for d in data:\n",
    "    if(str(d[5]) not in sex_counts):\n",
    "        sex_counts[str(d[5])]=1\n",
    "    else:\n",
    "        sex_counts[str(d[5])]+=1\n",
    "print(sex_counts)"
   ]
  },
  {
   "cell_type": "code",
   "execution_count": 28,
   "metadata": {
    "collapsed": false
   },
   "outputs": [
    {
     "name": "stdout",
     "output_type": "stream",
     "text": [
      "{'Black': 23296, 'Asian/Pacific Islander': 1326, 'Hispanic': 9022, 'White': 66237, 'Native American/Native Alaskan': 917}\n"
     ]
    }
   ],
   "source": [
    "race_counts  = {}\n",
    "for d in data:\n",
    "    if(str(d[7]) not in race_counts):\n",
    "        race_counts[str(d[7])]=1\n",
    "    else:\n",
    "        race_counts[str(d[7])]+=1\n",
    "print(race_counts)"
   ]
  },
  {
   "cell_type": "code",
   "execution_count": 29,
   "metadata": {
    "collapsed": true
   },
   "outputs": [],
   "source": [
    "import csv\n",
    "f = open(\"census.csv\",'r')\n",
    "census = list(csv.reader(f))"
   ]
  },
  {
   "cell_type": "code",
   "execution_count": null,
   "metadata": {
    "collapsed": false
   },
   "outputs": [],
   "source": [
    "print(census)"
   ]
  },
  {
   "cell_type": "code",
   "execution_count": 32,
   "metadata": {
    "collapsed": false
   },
   "outputs": [],
   "source": [
    "mapping = {}\n",
    "mapping[\"Asian/Pacific Islander\"]=int(census[1][14])+int(census[1][15])"
   ]
  },
  {
   "cell_type": "code",
   "execution_count": 33,
   "metadata": {
    "collapsed": true
   },
   "outputs": [],
   "source": [
    "mapping[\"Black\"]=int(census[1][12])\n",
    "mapping[\"Hispanic\"]=int(census[1][11])\n",
    "mapping[\"Native American/Native Alaskan\"]=int(census[1][13])\n",
    "mapping[\"White\"]=int(census[1][10])\n"
   ]
  },
  {
   "cell_type": "code",
   "execution_count": 34,
   "metadata": {
    "collapsed": false
   },
   "outputs": [
    {
     "name": "stdout",
     "output_type": "stream",
     "text": [
      "{'Black': 57.8773477735196, 'Asian/Pacific Islander': 8.374309664161762, 'Hispanic': 20.220491210910907, 'White': 33.56849303419181, 'Native American/Native Alaskan': 24.521955573811088}\n"
     ]
    }
   ],
   "source": [
    "race_per_hundredk = {}\n",
    "for c in race_counts:\n",
    "    race_per_hundredk[c] = (race_counts[c]/mapping[c])*100000\n",
    "#print(race_counts)\n",
    "print(race_per_hundredk)"
   ]
  },
  {
   "cell_type": "code",
   "execution_count": 43,
   "metadata": {
    "collapsed": false
   },
   "outputs": [
    {
     "name": "stdout",
     "output_type": "stream",
     "text": [
      "{'Black': 19510, 'Asian/Pacific Islander': 559, 'Hispanic': 5634, 'White': 9147, 'Native American/Native Alaskan': 326}\n"
     ]
    }
   ],
   "source": [
    "intents  = []\n",
    "races = []\n",
    "homicide_race_counts={}\n",
    "for d in data:\n",
    "    intents.append(d[3])\n",
    "    races.append(d[7])\n",
    "for i,intent in enumerate(intents):\n",
    "    if(intent==\"Homicide\"):\n",
    "        if(races[i] not in homicide_race_counts):\n",
    "            homicide_race_counts[races[i]]=1\n",
    "        else:\n",
    "            homicide_race_counts[races[i]]+=1\n",
    "race_per_hundredk = {}\n",
    "for c in race_counts:\n",
    "    race_per_hundredk[c] = (race_counts[c]/mapping[c])*100000\n",
    "print(homicide_race_counts)\n",
    "#print(race_per_hundredk)"
   ]
  },
  {
   "cell_type": "markdown",
   "metadata": {
    "collapsed": true
   },
   "source": [
    "{'Black': 19510, 'Asian/Pacific Islander': 559, 'Hispanic': 5634, 'White': 9147, 'Native American/Native Alaskan': 326}"
   ]
  },
  {
   "cell_type": "code",
   "execution_count": null,
   "metadata": {
    "collapsed": true
   },
   "outputs": [],
   "source": []
  }
 ],
 "metadata": {
  "kernelspec": {
   "display_name": "Python 3",
   "language": "python",
   "name": "python3"
  },
  "language_info": {
   "codemirror_mode": {
    "name": "ipython",
    "version": 3
   },
   "file_extension": ".py",
   "mimetype": "text/x-python",
   "name": "python",
   "nbconvert_exporter": "python",
   "pygments_lexer": "ipython3",
   "version": "3.4.3"
  }
 },
 "nbformat": 4,
 "nbformat_minor": 0
}
