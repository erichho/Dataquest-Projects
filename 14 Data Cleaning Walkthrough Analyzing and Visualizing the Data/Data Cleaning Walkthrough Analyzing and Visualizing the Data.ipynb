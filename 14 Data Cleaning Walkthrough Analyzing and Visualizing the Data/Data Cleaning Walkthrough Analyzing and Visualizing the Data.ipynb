{
 "cells": [
  {
   "cell_type": "markdown",
   "metadata": {},
   "source": [
    "# EX1\n",
    "- Read each of the files in the list data_files into a pandas dataframe using the pandas.read_csv() function.\n",
    "\n",
    "Recall that all of the data sets are in the schools folder. That means the path to ap_2010.csv is schools/ap_2010.csv.\n",
    "- Add each of the dataframes to the dictionary data, using the base of the filename as the key. For example, you'd enter ap_2010 for the file ap_2010.csv.\n",
    "\n",
    "- Afterwards, data should have the following keys:\n",
    "\n",
    "ap_2010\n",
    "class_size\n",
    "demographics\n",
    "graduation\n",
    "hs_directory\n",
    "sat_results\n",
    "- In addition, each key in data should have the corresponding dataframe as its value.\n"
   ]
  },
  {
   "cell_type": "code",
   "execution_count": 2,
   "metadata": {},
   "outputs": [],
   "source": [
    "import pandas as pd\n",
    "data_files = [\n",
    "    \"ap_2010.csv\",\n",
    "    \"class_size.csv\",\n",
    "    \"demographics.csv\",\n",
    "    \"graduation.csv\",\n",
    "    \"hs_directory.csv\",\n",
    "    \"sat_results.csv\"\n",
    "]\n",
    "data = {}\n",
    "for f in data_files:\n",
    "    d = pd.read_csv(\"schools/{0}\".format(f))\n",
    "    key_name=f.replace(\".csv\",\"\")\n",
    "    data[key_name]=d"
   ]
  },
  {
   "cell_type": "markdown",
   "metadata": {},
   "source": [
    "# EX2\n",
    "- Display the first five rows of the SAT scores data.\n",
    "\n",
    "Use the key sat_results to access the SAT scores dataframe stored in the dictionary data.\n",
    "\n",
    "Use the pandas.DataFrame.head() method along with the print() function to display the first five rows of the dataframe."
   ]
  },
  {
   "cell_type": "code",
   "execution_count": 3,
   "metadata": {},
   "outputs": [
    {
     "name": "stdout",
     "output_type": "stream",
     "text": [
      "      DBN                                    SCHOOL NAME  \\\n",
      "0  01M292  HENRY STREET SCHOOL FOR INTERNATIONAL STUDIES   \n",
      "1  01M448            UNIVERSITY NEIGHBORHOOD HIGH SCHOOL   \n",
      "2  01M450                     EAST SIDE COMMUNITY SCHOOL   \n",
      "3  01M458                      FORSYTH SATELLITE ACADEMY   \n",
      "4  01M509                        MARTA VALLE HIGH SCHOOL   \n",
      "\n",
      "  Num of SAT Test Takers SAT Critical Reading Avg. Score SAT Math Avg. Score  \\\n",
      "0                     29                             355                 404   \n",
      "1                     91                             383                 423   \n",
      "2                     70                             377                 402   \n",
      "3                      7                             414                 401   \n",
      "4                     44                             390                 433   \n",
      "\n",
      "  SAT Writing Avg. Score  \n",
      "0                    363  \n",
      "1                    366  \n",
      "2                    370  \n",
      "3                    359  \n",
      "4                    384  \n"
     ]
    }
   ],
   "source": [
    "print(data[\"sat_results\"].head(5))\n"
   ]
  },
  {
   "cell_type": "markdown",
   "metadata": {},
   "source": [
    "# EX3\n",
    "\n",
    "- Loop through each key in data. For each key:\n",
    "\n",
    "Display the first five rows of the dataframe associated with the key."
   ]
  },
  {
   "cell_type": "code",
   "execution_count": null,
   "metadata": {},
   "outputs": [],
   "source": [
    "for d in data:\n",
    "    print(data[d].head(5))"
   ]
  },
  {
   "cell_type": "markdown",
   "metadata": {},
   "source": [
    "# EX4\n",
    "Create a scatterplot of ell_percent versus sat_score."
   ]
  },
  {
   "cell_type": "code",
   "execution_count": null,
   "metadata": {},
   "outputs": [],
   "source": [
    "combined.plot.scatter(x=\"ell_percent\",y=\"sat_score\")"
   ]
  },
  {
   "cell_type": "markdown",
   "metadata": {},
   "source": [
    "# Basemap\n",
    "# EX5\n",
    "\n",
    "Set up the map using the code snippet you saw above -- the one that creates a map, then draws rivers, coastlines, and boundaries.\n",
    "\n",
    "Convert the lon column of combined to a list, and assign it to the longitudes variable.\n",
    "\n",
    "Convert the lat column of combined to a list, and assign it to the latitudes variable.\n",
    "\n",
    "Call the Basemap.scatter() method on m, and pass in longitudes and latitudes as arguments.\n",
    "\n",
    "Make sure to pass in longitudes and latitudes in the correct order.\n",
    "\n",
    "Pass in the keyword argument s=20 to increase the size of the points in the scatterplot.\n",
    "\n",
    "Pass in the keyword argument zorder=2 to plot the points on top of the rest of the map. Otherwise the method will draw the points underneath the land.\n",
    "\n",
    "Pass in the keyword argument latlon=True to indicate that we're passing in latitude and longitude coordinates, rather than axis coordinates.\n",
    "\n",
    "Show the plot using the pyplot.show() method."
   ]
  },
  {
   "cell_type": "code",
   "execution_count": null,
   "metadata": {},
   "outputs": [],
   "source": [
    "\n",
    "from mpl_toolkits.basemap import Basemap\n",
    "m = Basemap(\n",
    "    projection='merc', \n",
    "    llcrnrlat=40.496044, \n",
    "    urcrnrlat=40.915256, \n",
    "    llcrnrlon=-74.255735, \n",
    "    urcrnrlon=-73.700272,\n",
    "    resolution='i'\n",
    ")\n",
    "\n",
    "m.drawmapboundary(fill_color='#85A6D9')\n",
    "m.drawcoastlines(color='#6D5F47', linewidth=.4)\n",
    "m.drawrivers(color='#6D5F47', linewidth=.4)\n",
    "\n",
    "longitudes = combined[\"lon\"].tolist()\n",
    "latitudes = combined[\"lat\"].tolist()\n",
    "m.scatter(longitudes,latitudes,s=20,zorder=2,latlon=True)\n",
    "plt.show()"
   ]
  },
  {
   "cell_type": "markdown",
   "metadata": {},
   "source": [
    "# EX6\n",
    "Set up the map using the code snippet that creates a map, then draws rivers, coastlines, and boundaries.\n",
    "Call the scatter() method on m, and pass in longitudes and latitudes as arguments.\n",
    "Make sure to pass in longitudes and latitudes in the correct order.\n",
    "Pass in the keyword argument s=20 to increase the size of the points in the scatterplot.\n",
    "Pass in the keyword argument zorder=2 to plot the points on top of the rest of the map. Otherwise the method will draw the points underneath the land.\n",
    "Pass in the keyword argument latlon=True to indicate that we're passing in latitude and longitude coordinates, rather than axis coordinates.\n",
    "Pass in the keyword argument c with the value combined[\"ell_percent\"] to plot the ell_percent.\n",
    "Pass in the keyword argument cmap=\"summer\" to get the right color scheme.\n",
    "Show the plot using the show() method."
   ]
  },
  {
   "cell_type": "code",
   "execution_count": null,
   "metadata": {},
   "outputs": [],
   "source": [
    "from mpl_toolkits.basemap import Basemap\n",
    "m = Basemap(\n",
    "    projection='merc', \n",
    "    llcrnrlat=40.496044, \n",
    "    urcrnrlat=40.915256, \n",
    "    llcrnrlon=-74.255735, \n",
    "    urcrnrlon=-73.700272,\n",
    "    resolution='i'\n",
    ")\n",
    "\n",
    "m.drawmapboundary(fill_color='#85A6D9')\n",
    "m.drawcoastlines(color='#6D5F47', linewidth=.4)\n",
    "m.drawrivers(color='#6D5F47', linewidth=.4)\n",
    "longitudes = combined[\"lon\"].tolist()\n",
    "latitudes = combined[\"lat\"].tolist()\n",
    "m.scatter(longitudes,latitudes,s=20,zorder=2,latlon=True,c = combined[\"ell_percent\"],cmap = \"summer\")\n",
    "plt.show()"
   ]
  },
  {
   "cell_type": "markdown",
   "metadata": {},
   "source": [
    "# EX7\n",
    "Find the average values for each column for each school_dist in combined.\n",
    "Use the pandas.DataFrame.groupby() method to group combined by school_dist.\n",
    "Use the agg() method, along with the numpy.mean function as an argument, to calculate the average of each group.\n",
    "Assign the result to the variable districts.\n",
    "Reset the index of districts, making school_dist a column again.\n",
    "Use the pandas.DataFrame.reset_index() method with the keyword argument inplace=True.\n",
    "Display the first few rows of districts to verify that everything went okay."
   ]
  },
  {
   "cell_type": "code",
   "execution_count": null,
   "metadata": {},
   "outputs": [],
   "source": [
    "import numpy\n",
    "districts =  combined.groupby(\"school_dist\").agg(numpy.mean)\n",
    "districts.reset_index(inplace = True)\n",
    "print(districts.head())"
   ]
  },
  {
   "cell_type": "markdown",
   "metadata": {},
   "source": [
    "# EX8\n",
    "Use the code snippet from before that creates a map, then draws rivers, coastlines, and boundaries.\n",
    "Convert the lon column of districts to a list, and assign it to the longitudes variable.\n",
    "Convert the lat column of districts to a list, and assign it to the latitudes variable.\n",
    "Call the scatter() method on m, and pass in longitudes and latitudes as arguments.\n",
    "Make sure to pass in longitudes and latitudes in the correct order.\n",
    "Pass in the keyword argument s=50 to increase the size of the points in the scatterplot.\n",
    "Pass in the keyword argument zorder=2 to plot the points on top of the rest of the map. Otherwise the method will draw the points underneath the land.\n",
    "Pass in the keyword argument latlon=True to indicate that we're passing in latitude and longitude coordinates, rather than axis coordinates.\n",
    "Pass in the keyword argument c with the value districts[\"ell_percent\"] to plot the ell_percent.\n",
    "Pass in the keyword argument cmap=\"summer\" to get the right color scheme.\n",
    "Show the plot using the show() method."
   ]
  },
  {
   "cell_type": "code",
   "execution_count": null,
   "metadata": {},
   "outputs": [],
   "source": [
    "from mpl_toolkits.basemap import Basemap\n",
    "m = Basemap(\n",
    "    projection='merc', \n",
    "    llcrnrlat=40.496044, \n",
    "    urcrnrlat=40.915256, \n",
    "    llcrnrlon=-74.255735, \n",
    "    urcrnrlon=-73.700272,\n",
    "    resolution='i'\n",
    ")\n",
    "\n",
    "m.drawmapboundary(fill_color='#85A6D9')\n",
    "m.drawcoastlines(color='#6D5F47', linewidth=.4)\n",
    "m.drawrivers(color='#6D5F47', linewidth=.4)\n",
    "longitudes = districts[\"lon\"].tolist()\n",
    "latitudes = districts[\"lat\"].tolist()\n",
    "m.scatter(longitudes,latitudes,s=50,zorder=2,latlon=True,c = districts[\"ell_percent\"],cmap = \"summer\")\n",
    "plt.show()"
   ]
  },
  {
   "cell_type": "code",
   "execution_count": null,
   "metadata": {
    "collapsed": true
   },
   "outputs": [],
   "source": []
  }
 ],
 "metadata": {
  "kernelspec": {
   "display_name": "Python 3",
   "language": "python",
   "name": "python3"
  },
  "language_info": {
   "codemirror_mode": {
    "name": "ipython",
    "version": 3
   },
   "file_extension": ".py",
   "mimetype": "text/x-python",
   "name": "python",
   "nbconvert_exporter": "python",
   "pygments_lexer": "ipython3",
   "version": "3.6.3"
  }
 },
 "nbformat": 4,
 "nbformat_minor": 2
}
